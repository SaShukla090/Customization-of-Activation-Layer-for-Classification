{
 "cells": [
  {
   "cell_type": "markdown",
   "id": "318479ac",
   "metadata": {},
   "source": [
    "- Name: Shivam Shukla\n",
    "- Roll No: 19301\n",
    "- Department: EECS"
   ]
  },
  {
   "cell_type": "markdown",
   "id": "f45612c4",
   "metadata": {},
   "source": [
    "# Descriptive Analysis "
   ]
  },
  {
   "cell_type": "code",
   "execution_count": 1,
   "id": "e1b11bba",
   "metadata": {},
   "outputs": [
    {
     "name": "stderr",
     "output_type": "stream",
     "text": [
      "2022-11-24 09:31:31.640202: I tensorflow/core/platform/cpu_feature_guard.cc:193] This TensorFlow binary is optimized with oneAPI Deep Neural Network Library (oneDNN) to use the following CPU instructions in performance-critical operations:  AVX2 FMA\n",
      "To enable them in other operations, rebuild TensorFlow with the appropriate compiler flags.\n",
      "2022-11-24 09:31:31.748708: E tensorflow/stream_executor/cuda/cuda_blas.cc:2981] Unable to register cuBLAS factory: Attempting to register factory for plugin cuBLAS when one has already been registered\n",
      "2022-11-24 09:31:32.215349: W tensorflow/stream_executor/platform/default/dso_loader.cc:64] Could not load dynamic library 'libnvinfer.so.7'; dlerror: libnvinfer.so.7: cannot open shared object file: No such file or directory\n",
      "2022-11-24 09:31:32.215414: W tensorflow/stream_executor/platform/default/dso_loader.cc:64] Could not load dynamic library 'libnvinfer_plugin.so.7'; dlerror: libnvinfer_plugin.so.7: cannot open shared object file: No such file or directory\n",
      "2022-11-24 09:31:32.215420: W tensorflow/compiler/tf2tensorrt/utils/py_utils.cc:38] TF-TRT Warning: Cannot dlopen some TensorRT libraries. If you would like to use Nvidia GPU with TensorRT, please make sure the missing libraries mentioned above are installed properly.\n"
     ]
    },
    {
     "name": "stdout",
     "output_type": "stream",
     "text": [
      "WARNING:tensorflow:From /home/truartadmin/anaconda3/lib/python3.9/site-packages/tensorflow/python/compat/v2_compat.py:107: disable_resource_variables (from tensorflow.python.ops.variable_scope) is deprecated and will be removed in a future version.\n",
      "Instructions for updating:\n",
      "non-resource variables are not supported in the long term\n"
     ]
    }
   ],
   "source": [
    "import tensorflow.compat.v1 as tf\n",
    "tf.disable_v2_behavior()"
   ]
  },
  {
   "cell_type": "markdown",
   "id": "f49b6f41",
   "metadata": {},
   "source": [
    "## AlexNEt method1"
   ]
  },
  {
   "cell_type": "code",
   "execution_count": 9,
   "id": "30ce5a33",
   "metadata": {},
   "outputs": [
    {
     "name": "stdout",
     "output_type": "stream",
     "text": [
      "AlexNetm1run1.ckpt.data-00000-of-00001  AlexNetm1run2.ckpt.meta\r\n",
      "AlexNetm1run1.ckpt.index                AlexNetm1run3.ckpt.data-00000-of-00001\r\n",
      "AlexNetm1run1.ckpt.meta                 AlexNetm1run3.ckpt.index\r\n",
      "AlexNetm1run2.ckpt.data-00000-of-00001  AlexNetm1run3.ckpt.meta\r\n",
      "AlexNetm1run2.ckpt.index                checkpoint\r\n"
     ]
    }
   ],
   "source": [
    "ls saved/AlexNet/m1"
   ]
  },
  {
   "cell_type": "code",
   "execution_count": 10,
   "id": "1d11eeee",
   "metadata": {},
   "outputs": [
    {
     "name": "stdout",
     "output_type": "stream",
     "text": [
      "INFO:tensorflow:Restoring parameters from saved/AlexNet/m1/AlexNetm1run1.ckpt\n"
     ]
    }
   ],
   "source": [
    "with tf.Session() as sess:\n",
    "    saver_alex = tf.train.import_meta_graph(\"saved/AlexNet/m1/AlexNetm1run1.ckpt.meta\")\n",
    "    saver_alex.restore(sess, \"saved/AlexNet/m1/AlexNetm1run1.ckpt\")\n",
    "    dict1 = {}\n",
    "    for i in range(1,6):\n",
    "        a= sess.run(\"conv\" + str(i) + \"_1/alpha:0\")\n",
    "        b= sess.run(\"conv\" + str(i) + \"_1/beta:0\") \n",
    "        c= sess.run(\"conv\" + str(i) + \"_1/gamma:0\")\n",
    "        s = a+b+c\n",
    "        dict1[\"conv\" + str(i)] = [[a/s,b/s,c/s],[a,b,c]]\n",
    "    \n",
    "    for i in range(6,8):\n",
    "        a = sess.run(\"fc\" + str(i) + \"_1/alpha:0\")\n",
    "        b = sess.run(\"fc\" + str(i) + \"_1/beta:0\") \n",
    "        c = sess.run(\"fc\" + str(i) + \"_1/gamma:0\")\n",
    "        s = a+b+c\n",
    "        dict1[\"fc\" + str(i)] = [[a/s, b/s, c/s],[a,b,c]]\n",
    "sess.close()"
   ]
  },
  {
   "cell_type": "code",
   "execution_count": null,
   "id": "18424462",
   "metadata": {},
   "outputs": [],
   "source": []
  },
  {
   "cell_type": "code",
   "execution_count": 11,
   "id": "e3e3aa0f",
   "metadata": {},
   "outputs": [
    {
     "name": "stdout",
     "output_type": "stream",
     "text": [
      "conv1 = [[0.33885974, 0.3242271, 0.33691317], [1.0163913, 0.97250146, 1.0105526]]\n",
      "conv2 = [[0.34211746, 0.31680617, 0.34107637], [1.02572, 0.9498329, 1.0225986]]\n",
      "conv3 = [[0.35180965, 0.33075857, 0.31743175], [1.0544466, 0.9913521, 0.95140886]]\n",
      "conv4 = [[0.35397896, 0.331537, 0.3144841], [1.0606569, 0.9934122, 0.94231516]]\n",
      "conv5 = [[0.3373175, 0.3340816, 0.32860094], [1.011772, 1.002066, 0.985627]]\n",
      "fc6 = [[0.33678854, 0.32866707, 0.3345444], [1.0102568, 0.985895, 1.003525]]\n",
      "fc7 = [[0.34041846, 0.2752675, 0.3843141], [1.0121126, 0.81840956, 1.1426206]]\n"
     ]
    }
   ],
   "source": [
    "for i in dict1.keys():\n",
    "    print(f\"{i} = {dict1[i]}\")"
   ]
  },
  {
   "cell_type": "markdown",
   "id": "28f8ecaf",
   "metadata": {},
   "source": [
    "## AlexNet Method 2"
   ]
  },
  {
   "cell_type": "code",
   "execution_count": 1,
   "id": "22749b13",
   "metadata": {},
   "outputs": [
    {
     "name": "stderr",
     "output_type": "stream",
     "text": [
      "2022-11-24 09:23:29.976354: I tensorflow/core/platform/cpu_feature_guard.cc:193] This TensorFlow binary is optimized with oneAPI Deep Neural Network Library (oneDNN) to use the following CPU instructions in performance-critical operations:  AVX2 FMA\n",
      "To enable them in other operations, rebuild TensorFlow with the appropriate compiler flags.\n",
      "2022-11-24 09:23:30.088310: E tensorflow/stream_executor/cuda/cuda_blas.cc:2981] Unable to register cuBLAS factory: Attempting to register factory for plugin cuBLAS when one has already been registered\n",
      "2022-11-24 09:23:30.569004: W tensorflow/stream_executor/platform/default/dso_loader.cc:64] Could not load dynamic library 'libnvinfer.so.7'; dlerror: libnvinfer.so.7: cannot open shared object file: No such file or directory\n",
      "2022-11-24 09:23:30.569079: W tensorflow/stream_executor/platform/default/dso_loader.cc:64] Could not load dynamic library 'libnvinfer_plugin.so.7'; dlerror: libnvinfer_plugin.so.7: cannot open shared object file: No such file or directory\n",
      "2022-11-24 09:23:30.569085: W tensorflow/compiler/tf2tensorrt/utils/py_utils.cc:38] TF-TRT Warning: Cannot dlopen some TensorRT libraries. If you would like to use Nvidia GPU with TensorRT, please make sure the missing libraries mentioned above are installed properly.\n"
     ]
    },
    {
     "name": "stdout",
     "output_type": "stream",
     "text": [
      "WARNING:tensorflow:From /home/truartadmin/anaconda3/lib/python3.9/site-packages/tensorflow/python/compat/v2_compat.py:107: disable_resource_variables (from tensorflow.python.ops.variable_scope) is deprecated and will be removed in a future version.\n",
      "Instructions for updating:\n",
      "non-resource variables are not supported in the long term\n"
     ]
    }
   ],
   "source": [
    "import tensorflow.compat.v1 as tf\n",
    "tf.disable_v2_behavior()"
   ]
  },
  {
   "cell_type": "code",
   "execution_count": 2,
   "id": "35e29e1a",
   "metadata": {},
   "outputs": [
    {
     "name": "stderr",
     "output_type": "stream",
     "text": [
      "2022-11-24 09:23:31.327724: W tensorflow/stream_executor/platform/default/dso_loader.cc:64] Could not load dynamic library 'libcudnn.so.8'; dlerror: libcudnn.so.8: cannot open shared object file: No such file or directory\n",
      "2022-11-24 09:23:31.327745: W tensorflow/core/common_runtime/gpu/gpu_device.cc:1934] Cannot dlopen some GPU libraries. Please make sure the missing libraries mentioned above are installed properly if you would like to use GPU. Follow the guide at https://www.tensorflow.org/install/gpu for how to download and setup the required libraries for your platform.\n",
      "Skipping registering GPU devices...\n",
      "2022-11-24 09:23:31.328378: I tensorflow/core/platform/cpu_feature_guard.cc:193] This TensorFlow binary is optimized with oneAPI Deep Neural Network Library (oneDNN) to use the following CPU instructions in performance-critical operations:  AVX2 FMA\n",
      "To enable them in other operations, rebuild TensorFlow with the appropriate compiler flags.\n"
     ]
    },
    {
     "name": "stdout",
     "output_type": "stream",
     "text": [
      "WARNING:tensorflow:From /home/truartadmin/anaconda3/lib/python3.9/site-packages/tensorflow/python/training/queue_runner_impl.py:387: QueueRunner.__init__ (from tensorflow.python.training.queue_runner_impl) is deprecated and will be removed in a future version.\n",
      "Instructions for updating:\n",
      "To construct input pipelines, use the `tf.data` module.\n",
      "INFO:tensorflow:Restoring parameters from saved/AlexNet/m2/AlexNetm2run1.ckpt\n"
     ]
    },
    {
     "name": "stderr",
     "output_type": "stream",
     "text": [
      "2022-11-24 09:23:31.621740: I tensorflow/compiler/mlir/mlir_graph_optimization_pass.cc:354] MLIR V1 optimization pass is not enabled\n"
     ]
    }
   ],
   "source": [
    "dict1 = {}\n",
    "with tf.Session() as sess1:\n",
    "    saver_alex = tf.train.import_meta_graph(\"saved/AlexNet/m2/AlexNetm2run1.ckpt.meta\")\n",
    "    saver_alex.restore(sess1, \"saved/AlexNet/m2/AlexNetm2run1.ckpt\")\n",
    "    dict1 = {}\n",
    "    for i in range(1,6):\n",
    "        a= sess1.run(\"conv\" + str(i) + \"_1/alpha:0\")\n",
    "        b= sess1.run(\"conv\" + str(i) + \"_1/beta:0\") \n",
    "        c= sess1.run(\"conv\" + str(i) + \"_1/gamma:0\")\n",
    "        s = a+b+c\n",
    "        dict1[\"conv\" + str(i)] = [[a/s,b/s,c/s],[a,b,c]]\n",
    "    \n",
    "    for i in range(6,8):\n",
    "        a = sess1.run(\"fc\" + str(i) + \"_1/alpha:0\")\n",
    "        b = sess1.run(\"fc\" + str(i) + \"_1/beta:0\") \n",
    "        c = sess1.run(\"fc\" + str(i) + \"_1/gamma:0\")\n",
    "        s = a+b+c\n",
    "        dict1[\"fc\" + str(i)] = [[a/s, b/s, c/s],[a,b,c]]\n",
    "    #     a['i'] = alpha['i']/(alpha['i'] + beta['i'] + gamma['i'])\n",
    "    #     b['i'] = beta['i']/(alpha['i'] + beta['i'] + gamma['i'])\n",
    "    #     c['i'] = gamma['i']/(alpha['i'] + beta['i'] + gamma['i'])\n",
    "    #     A.append(a['i'])\n",
    "    #     B.append(b['i'])\n",
    "    #     C.append(c['i'])\n",
    "sess1.close()"
   ]
  },
  {
   "cell_type": "code",
   "execution_count": 3,
   "id": "5b2bd3d7",
   "metadata": {},
   "outputs": [
    {
     "name": "stdout",
     "output_type": "stream",
     "text": [
      "conv1 = [[0.33110926, 0.30222422, 0.36666656], [0.99024683, 0.9038605, 1.0965879]]\n",
      "conv2 = [[0.32801628, 0.3022104, 0.36977336], [0.9806367, 0.9034875, 1.1054736]]\n",
      "conv3 = [[0.33451697, 0.31568933, 0.34979376], [1.0026785, 0.9462447, 1.0484691]]\n",
      "conv4 = [[0.33459172, 0.3202759, 0.34513238], [1.0033084, 0.960381, 1.0349157]]\n",
      "conv5 = [[0.33128983, 0.33182177, 0.3368885], [0.9938344, 0.9954302, 1.0106298]]\n",
      "fc6 = [[0.35226282, 0.3128824, 0.33485478], [1.0556804, 0.93766296, 1.003511]]\n",
      "fc7 = [[0.40770772, 0.22627513, 0.36601722], [1.1912016, 0.66110915, 1.0693942]]\n"
     ]
    }
   ],
   "source": [
    "for i in dict1.keys():\n",
    "    print(f\"{i} = {dict1[i]}\")"
   ]
  },
  {
   "cell_type": "code",
   "execution_count": null,
   "id": "fb9105af",
   "metadata": {},
   "outputs": [],
   "source": []
  },
  {
   "cell_type": "code",
   "execution_count": null,
   "id": "bcc89f42",
   "metadata": {},
   "outputs": [],
   "source": []
  },
  {
   "cell_type": "markdown",
   "id": "49478828",
   "metadata": {},
   "source": [
    "## LeNet"
   ]
  },
  {
   "cell_type": "markdown",
   "id": "2477e99a",
   "metadata": {},
   "source": [
    "### Method 1"
   ]
  },
  {
   "cell_type": "code",
   "execution_count": 1,
   "id": "2b76ab11",
   "metadata": {},
   "outputs": [
    {
     "name": "stderr",
     "output_type": "stream",
     "text": [
      "2022-11-24 09:24:01.897664: I tensorflow/core/platform/cpu_feature_guard.cc:193] This TensorFlow binary is optimized with oneAPI Deep Neural Network Library (oneDNN) to use the following CPU instructions in performance-critical operations:  AVX2 FMA\n",
      "To enable them in other operations, rebuild TensorFlow with the appropriate compiler flags.\n",
      "2022-11-24 09:24:02.009150: E tensorflow/stream_executor/cuda/cuda_blas.cc:2981] Unable to register cuBLAS factory: Attempting to register factory for plugin cuBLAS when one has already been registered\n",
      "2022-11-24 09:24:02.481691: W tensorflow/stream_executor/platform/default/dso_loader.cc:64] Could not load dynamic library 'libnvinfer.so.7'; dlerror: libnvinfer.so.7: cannot open shared object file: No such file or directory\n",
      "2022-11-24 09:24:02.481761: W tensorflow/stream_executor/platform/default/dso_loader.cc:64] Could not load dynamic library 'libnvinfer_plugin.so.7'; dlerror: libnvinfer_plugin.so.7: cannot open shared object file: No such file or directory\n",
      "2022-11-24 09:24:02.481767: W tensorflow/compiler/tf2tensorrt/utils/py_utils.cc:38] TF-TRT Warning: Cannot dlopen some TensorRT libraries. If you would like to use Nvidia GPU with TensorRT, please make sure the missing libraries mentioned above are installed properly.\n"
     ]
    },
    {
     "name": "stdout",
     "output_type": "stream",
     "text": [
      "WARNING:tensorflow:From /home/truartadmin/anaconda3/lib/python3.9/site-packages/tensorflow/python/compat/v2_compat.py:107: disable_resource_variables (from tensorflow.python.ops.variable_scope) is deprecated and will be removed in a future version.\n",
      "Instructions for updating:\n",
      "non-resource variables are not supported in the long term\n"
     ]
    }
   ],
   "source": [
    "import tensorflow.compat.v1 as tf\n",
    "tf.disable_v2_behavior()"
   ]
  },
  {
   "cell_type": "code",
   "execution_count": 2,
   "id": "ff5dcec0",
   "metadata": {},
   "outputs": [
    {
     "name": "stdout",
     "output_type": "stream",
     "text": [
      "WARNING:tensorflow:From /home/truartadmin/anaconda3/lib/python3.9/site-packages/tensorflow/python/training/queue_runner_impl.py:387: QueueRunner.__init__ (from tensorflow.python.training.queue_runner_impl) is deprecated and will be removed in a future version.\n",
      "Instructions for updating:\n",
      "To construct input pipelines, use the `tf.data` module.\n",
      "INFO:tensorflow:Restoring parameters from saved/LeNet/m1/LeNetm1run1.ckpt\n"
     ]
    },
    {
     "name": "stderr",
     "output_type": "stream",
     "text": [
      "2022-11-24 09:24:03.241101: W tensorflow/stream_executor/platform/default/dso_loader.cc:64] Could not load dynamic library 'libcudnn.so.8'; dlerror: libcudnn.so.8: cannot open shared object file: No such file or directory\n",
      "2022-11-24 09:24:03.241123: W tensorflow/core/common_runtime/gpu/gpu_device.cc:1934] Cannot dlopen some GPU libraries. Please make sure the missing libraries mentioned above are installed properly if you would like to use GPU. Follow the guide at https://www.tensorflow.org/install/gpu for how to download and setup the required libraries for your platform.\n",
      "Skipping registering GPU devices...\n",
      "2022-11-24 09:24:03.241596: I tensorflow/core/platform/cpu_feature_guard.cc:193] This TensorFlow binary is optimized with oneAPI Deep Neural Network Library (oneDNN) to use the following CPU instructions in performance-critical operations:  AVX2 FMA\n",
      "To enable them in other operations, rebuild TensorFlow with the appropriate compiler flags.\n",
      "2022-11-24 09:24:03.385275: I tensorflow/compiler/mlir/mlir_graph_optimization_pass.cc:354] MLIR V1 optimization pass is not enabled\n"
     ]
    }
   ],
   "source": [
    "with tf.Session() as sess2:\n",
    "    saver1 = tf.train.import_meta_graph(\"saved/LeNet/m1/LeNetm1run1.ckpt.meta\")\n",
    "    saver1.restore(sess2, \"saved/LeNet/m1/LeNetm1run1.ckpt\")\n",
    "#     saver1.run\n",
    "    dictl = {}\n",
    "    for i in range(1,3):\n",
    "        a= sess2.run(\"conv\" + str(i) + \"/alpha:0\")\n",
    "        b= sess2.run(\"conv\" + str(i) + \"/beta:0\") \n",
    "        c= sess2.run(\"conv\" + str(i) + \"/gamma:0\")\n",
    "        s = a+b+c\n",
    "        dictl[\"conv\" + str(i)] = [[a/s, b/s, c/s],[a,b,c]]\n",
    "        \n",
    " \n",
    "    a = sess2.run(\"fc_layer/alpha:0\")\n",
    "    b = sess2.run(\"fc_layer/beta:0\") \n",
    "    c = sess2.run(\"fc_layer/gamma:0\")\n",
    "    s = a+b+c\n",
    "    dictl[\"fc\"]= [[a/s, b/s, c/s],[a,b,c]]\n",
    "sess2.close()\n",
    "\n",
    "    "
   ]
  },
  {
   "cell_type": "code",
   "execution_count": 3,
   "id": "653fc0ff",
   "metadata": {},
   "outputs": [
    {
     "name": "stdout",
     "output_type": "stream",
     "text": [
      "conv1 = [[0.33621794, 0.33033553, 0.33344656], [1.0086266, 0.9909798, 1.0003127]]\n",
      "conv2 = [[0.33905822, 0.33398592, 0.32695583], [1.0170505, 1.0018355, 0.98074776]]\n",
      "fc = [[0.34921935, 0.1720933, 0.47868735], [0.9803052, 0.48308882, 1.3437392]]\n"
     ]
    }
   ],
   "source": [
    "for i in dictl.keys():\n",
    "    print(f\"{i} = {dictl[i]}\")"
   ]
  },
  {
   "cell_type": "markdown",
   "id": "89c89016",
   "metadata": {},
   "source": [
    "### Method 2"
   ]
  },
  {
   "cell_type": "code",
   "execution_count": 4,
   "id": "b97544e7",
   "metadata": {},
   "outputs": [
    {
     "name": "stdout",
     "output_type": "stream",
     "text": [
      "WARNING:tensorflow:From /home/truartadmin/anaconda3/lib/python3.9/site-packages/tensorflow/python/training/queue_runner_impl.py:387: QueueRunner.__init__ (from tensorflow.python.training.queue_runner_impl) is deprecated and will be removed in a future version.\n",
      "Instructions for updating:\n",
      "To construct input pipelines, use the `tf.data` module.\n",
      "INFO:tensorflow:Restoring parameters from saved/LeNet/m2/LeNetm2run1.ckpt\n"
     ]
    },
    {
     "name": "stderr",
     "output_type": "stream",
     "text": [
      "2022-11-24 09:32:53.450993: I tensorflow/compiler/mlir/mlir_graph_optimization_pass.cc:354] MLIR V1 optimization pass is not enabled\n"
     ]
    }
   ],
   "source": [
    "\n",
    "with tf.Session() as sess3:\n",
    "    saver2 = tf.train.import_meta_graph(\"saved/LeNet/m2/LeNetm2run1.ckpt.meta\")\n",
    "    saver2.restore(sess3, \"saved/LeNet/m2/LeNetm2run1.ckpt\")\n",
    "#     saver1.run\n",
    "    dictl2 = {}\n",
    "    for i in range(1,3):\n",
    "        a= sess3.run(\"conv\" + str(i) + \"/alpha:0\")\n",
    "        b= sess3.run(\"conv\" + str(i) + \"/beta:0\") \n",
    "        c= sess3.run(\"conv\" + str(i) + \"/gamma:0\")\n",
    "        s = a+b+c\n",
    "        dictl2[\"conv\" + str(i)] = [[a/s, b/s, c/s],[a,b,c]]\n",
    "        \n",
    " \n",
    "    a = sess3.run(\"fc_layer/alpha:0\")\n",
    "    b = sess3.run(\"fc_layer/beta:0\") \n",
    "    c = sess3.run(\"fc_layer/gamma:0\")\n",
    "    s = a+b+c\n",
    "    dictl2[\"fc\"]= [[a/s, b/s, c/s],[a,b,c]]\n",
    "sess3.close()\n"
   ]
  },
  {
   "cell_type": "code",
   "execution_count": 5,
   "id": "ca1a517c",
   "metadata": {},
   "outputs": [
    {
     "name": "stdout",
     "output_type": "stream",
     "text": [
      "conv1 = [[0.33367178, 0.33515152, 0.33117673], [1.0010055, 1.0054448, 0.99352044]]\n",
      "conv2 = [[0.3213759, 0.33128923, 0.34733486], [0.96363884, 0.99336374, 1.0414762]]\n",
      "fc = [[0.47416958, 0.10667576, 0.41915467], [1.2796502, 0.28788784, 1.1311805]]\n"
     ]
    }
   ],
   "source": [
    "for i in dictl2.keys():\n",
    "    print(f\"{i} = {dictl2[i]}\")"
   ]
  },
  {
   "cell_type": "code",
   "execution_count": null,
   "id": "359ff3cc",
   "metadata": {},
   "outputs": [],
   "source": []
  },
  {
   "cell_type": "code",
   "execution_count": null,
   "id": "c6642ce9",
   "metadata": {},
   "outputs": [],
   "source": []
  },
  {
   "cell_type": "code",
   "execution_count": null,
   "id": "9357fdd4",
   "metadata": {},
   "outputs": [],
   "source": []
  },
  {
   "cell_type": "markdown",
   "id": "53bb313b",
   "metadata": {},
   "source": [
    "## AlexNet trainabel vs constant alpha, beta and gamma"
   ]
  },
  {
   "cell_type": "code",
   "execution_count": 13,
   "id": "5549e393",
   "metadata": {},
   "outputs": [],
   "source": [
    "import pandas as pd\n",
    "import matplotlib.pyplot as plt\n",
    "import numpy as np"
   ]
  },
  {
   "cell_type": "code",
   "execution_count": 14,
   "id": "b93c410c",
   "metadata": {},
   "outputs": [],
   "source": [
    "df1 = pd.read_csv(\"result/AlexNet/AlexNetm1run1data_.csv\")\n",
    "df2 = pd.read_csv(\"result/AlexNet/AlexNetonem1run1data_.csv\")\n",
    "df3 = pd.read_csv(\"result/AlexNet/AlexNetonethreem1run1data_.csv\")"
   ]
  },
  {
   "cell_type": "code",
   "execution_count": 15,
   "id": "a04a3299",
   "metadata": {},
   "outputs": [
    {
     "data": {
      "image/png": "[encoded data removed]",
      "text/plain": [
       "<Figure size 1080x576 with 2 Axes>"
      ]
     },
     "metadata": {
      "needs_background": "light"
     },
     "output_type": "display_data"
    }
   ],
   "source": [
    "plt.figure(figsize=(15,8))\n",
    "\n",
    "plt.subplot(1,2,1)\n",
    "plt.title(\"AlexNet\")\n",
    "plt.plot(df1.cross_entropy_loss, label = \"variable_adaptive_coefficient\")\n",
    "plt.plot(df2.cross_entropy_loss, label = \"constant \\u03B1=\\u03B2=\\u03B3=1\")\n",
    "plt.plot(df3.cross_entropy_loss, label = \"constant \\u03B1=\\u03B2=\\u03B3=0.33\")\n",
    "plt.ylabel(\"cross_entropy_loss\")\n",
    "plt.xlabel(\"epochs\")\n",
    "plt.legend()\n",
    "\n",
    "\n",
    "\n",
    "plt.subplot(1,2,2)\n",
    "plt.title(\"AlexNet\")\n",
    "plt.plot(df1.pre_test, label = \"variable_adaptive_coefficient\")\n",
    "plt.plot(df2.pre_test, label = \"constant \\u03B1=\\u03B2=\\u03B3=1\")\n",
    "plt.plot(df3.pre_test, label = \"constant \\u03B1=\\u03B2=\\u03B3=0.33\")\n",
    "plt.ylabel(\"precision\")\n",
    "plt.xlabel(\"epochs\")\n",
    "plt.legend()\n",
    "\n",
    "plt.savefig(\"result/AlexNetAnalysis.jpg\")"
   ]
  },
  {
   "cell_type": "code",
   "execution_count": null,
   "id": "04f073df",
   "metadata": {},
   "outputs": [],
   "source": []
  },
  {
   "cell_type": "code",
   "execution_count": null,
   "id": "c602226c",
   "metadata": {},
   "outputs": [],
   "source": []
  },
  {
   "cell_type": "markdown",
   "id": "4f716e97",
   "metadata": {},
   "source": [
    "## AlexNet precision for all the activations"
   ]
  },
  {
   "cell_type": "code",
   "execution_count": 7,
   "id": "16b5ab31",
   "metadata": {},
   "outputs": [],
   "source": [
    "from glob import glob\n",
    "import pandas as pd"
   ]
  },
  {
   "cell_type": "code",
   "execution_count": 8,
   "id": "d3f7ab69",
   "metadata": {},
   "outputs": [],
   "source": [
    "df_csv = glob(\"result/AlexNet/AlexNetonem2*.csv\")"
   ]
  },
  {
   "cell_type": "code",
   "execution_count": 9,
   "id": "a8d0b847",
   "metadata": {},
   "outputs": [
    {
     "data": {
      "text/plain": [
       "['result/AlexNet/AlexNetonem2run2data_.csv',\n",
       " 'result/AlexNet/AlexNetonem2run3data_.csv',\n",
       " 'result/AlexNet/AlexNetonem2run1data_.csv']"
      ]
     },
     "execution_count": 9,
     "metadata": {},
     "output_type": "execute_result"
    }
   ],
   "source": [
    "df_csv"
   ]
  },
  {
   "cell_type": "code",
   "execution_count": 10,
   "id": "9d120d24",
   "metadata": {},
   "outputs": [],
   "source": [
    "x = pd.read_csv(df_csv[0])"
   ]
  },
  {
   "cell_type": "code",
   "execution_count": 11,
   "id": "293efa26",
   "metadata": {},
   "outputs": [],
   "source": [
    "def precision(x):\n",
    "    max_e = 0\n",
    "    max_p = x.pre_test[0]\n",
    "    for i in range(len(x)):\n",
    "        if x.pre_test[i]>x.pre_test[max_e]:\n",
    "            max_e = i\n",
    "            max_p = x.pre_test[i]\n",
    "    last_p = x.pre_test[len(x)-1]\n",
    "    return max_e, round(max_p,4), round(last_p,4)"
   ]
  },
  {
   "cell_type": "code",
   "execution_count": 12,
   "id": "272ca35a",
   "metadata": {},
   "outputs": [
    {
     "data": {
      "text/plain": [
       "(57, 0.871, 0.6822)"
      ]
     },
     "execution_count": 12,
     "metadata": {},
     "output_type": "execute_result"
    }
   ],
   "source": [
    "precision(x)"
   ]
  },
  {
   "cell_type": "code",
   "execution_count": 13,
   "id": "1c3f3c12",
   "metadata": {},
   "outputs": [],
   "source": [
    "import numpy as np\n",
    "def average(activation = \"relu\"):\n",
    "    df_csv = glob(\"result/AlexNet/AlexNet\" + activation + \"run*.csv\")\n",
    "    epoch = []\n",
    "    pre = []\n",
    "    lastp = []\n",
    "    for i in df_csv:\n",
    "        x = pd.read_csv(i)\n",
    "        max_e, max_p, last_p = precision(x)\n",
    "        epoch.append(max_e)\n",
    "        pre.append(max_p)\n",
    "        lastp.append(last_p)\n",
    "    epoch = np.array(epoch)\n",
    "    pre = np.array(pre)\n",
    "    lastp = np.array(lastp)\n",
    "    epoch = int(np.mean(epoch))\n",
    "    pre = str(round(np.mean(pre),4)) + \"+-\" + str(round(np.std(pre),4))\n",
    "    lastp = str(round(np.mean(lastp),4)) + \"+-\" + str(round(np.std(lastp),4))\n",
    "    return [activation, pre + \"(\" + str(epoch) + \")\", lastp]\n",
    "        "
   ]
  },
  {
   "cell_type": "code",
   "execution_count": 14,
   "id": "62a811a5",
   "metadata": {},
   "outputs": [],
   "source": [
    "AlexNet = pd.DataFrame(columns=[\"Activation Type\", \"Max Precision\", \"Last Epoch Precision\"])\n",
    "row = average(activation=\"relu\")\n",
    "AlexNet.loc[len(AlexNet)] = row"
   ]
  },
  {
   "cell_type": "code",
   "execution_count": 15,
   "id": "302ab721",
   "metadata": {},
   "outputs": [],
   "source": [
    "row = average(activation=\"tanh\")\n",
    "AlexNet.loc[len(AlexNet)] = row"
   ]
  },
  {
   "cell_type": "code",
   "execution_count": 16,
   "id": "7b5392d7",
   "metadata": {},
   "outputs": [],
   "source": [
    "row = average(activation=\"sigmoid\")\n",
    "AlexNet.loc[len(AlexNet)] = row"
   ]
  },
  {
   "cell_type": "code",
   "execution_count": 17,
   "id": "7c3970d9",
   "metadata": {},
   "outputs": [],
   "source": [
    "row = average(activation=\"arelu\")\n",
    "AlexNet.loc[len(AlexNet)] = row"
   ]
  },
  {
   "cell_type": "code",
   "execution_count": 18,
   "id": "9f2671b5",
   "metadata": {},
   "outputs": [],
   "source": [
    "row = average(activation=\"atanh\")\n",
    "AlexNet.loc[len(AlexNet)] = row"
   ]
  },
  {
   "cell_type": "code",
   "execution_count": 19,
   "id": "e77fe5a2",
   "metadata": {},
   "outputs": [],
   "source": [
    "row = average(activation=\"asigmoid\")\n",
    "AlexNet.loc[len(AlexNet)] = row"
   ]
  },
  {
   "cell_type": "code",
   "execution_count": 20,
   "id": "9fccb745",
   "metadata": {},
   "outputs": [],
   "source": [
    "row = average(activation=\"m1\")\n",
    "AlexNet.loc[len(AlexNet)] = row"
   ]
  },
  {
   "cell_type": "code",
   "execution_count": 21,
   "id": "df19fb4d",
   "metadata": {},
   "outputs": [],
   "source": [
    "row = average(activation=\"m2\")\n",
    "AlexNet.loc[len(AlexNet)] = row"
   ]
  },
  {
   "cell_type": "code",
   "execution_count": 22,
   "id": "266f5e9e",
   "metadata": {},
   "outputs": [],
   "source": [
    "row = average(activation=\"onem1\")\n",
    "AlexNet.loc[len(AlexNet)] = row"
   ]
  },
  {
   "cell_type": "code",
   "execution_count": 23,
   "id": "5c014040",
   "metadata": {},
   "outputs": [],
   "source": [
    "row = average(activation=\"onethreem1\")\n",
    "AlexNet.loc[len(AlexNet)] = row"
   ]
  },
  {
   "cell_type": "code",
   "execution_count": 24,
   "id": "3a8afa4f",
   "metadata": {},
   "outputs": [],
   "source": [
    "row = average(activation=\"onem2\")\n",
    "AlexNet.loc[len(AlexNet)] = row"
   ]
  },
  {
   "cell_type": "code",
   "execution_count": 25,
   "id": "234d82ff",
   "metadata": {},
   "outputs": [],
   "source": [
    "row = average(activation=\"onethreem2\")\n",
    "AlexNet.loc[len(AlexNet)] = row"
   ]
  },
  {
   "cell_type": "code",
   "execution_count": 26,
   "id": "61ce47a0",
   "metadata": {},
   "outputs": [
    {
     "data": {
      "text/html": [
       "<div>\n",
       "<style scoped>\n",
       "    .dataframe tbody tr th:only-of-type {\n",
       "        vertical-align: middle;\n",
       "    }\n",
       "\n",
       "    .dataframe tbody tr th {\n",
       "        vertical-align: top;\n",
       "    }\n",
       "\n",
       "    .dataframe thead th {\n",
       "        text-align: right;\n",
       "    }\n",
       "</style>\n",
       "<table border=\"1\" class=\"dataframe\">\n",
       "  <thead>\n",
       "    <tr style=\"text-align: right;\">\n",
       "      <th></th>\n",
       "      <th>Activation Type</th>\n",
       "      <th>Max Precision</th>\n",
       "      <th>Last Epoch Precision</th>\n",
       "    </tr>\n",
       "  </thead>\n",
       "  <tbody>\n",
       "    <tr>\n",
       "      <th>0</th>\n",
       "      <td>relu</td>\n",
       "      <td>0.8531+-0.0086(38)</td>\n",
       "      <td>0.719+-0.0415</td>\n",
       "    </tr>\n",
       "    <tr>\n",
       "      <th>1</th>\n",
       "      <td>tanh</td>\n",
       "      <td>0.8369+-0.0195(19)</td>\n",
       "      <td>0.668+-0.0256</td>\n",
       "    </tr>\n",
       "    <tr>\n",
       "      <th>2</th>\n",
       "      <td>sigmoid</td>\n",
       "      <td>0.8302+-0.013(56)</td>\n",
       "      <td>0.6579+-0.0432</td>\n",
       "    </tr>\n",
       "    <tr>\n",
       "      <th>3</th>\n",
       "      <td>arelu</td>\n",
       "      <td>0.8664+-0.0195(50)</td>\n",
       "      <td>0.7399+-0.0466</td>\n",
       "    </tr>\n",
       "    <tr>\n",
       "      <th>4</th>\n",
       "      <td>atanh</td>\n",
       "      <td>0.8256+-0.0072(32)</td>\n",
       "      <td>0.7428+-0.0328</td>\n",
       "    </tr>\n",
       "    <tr>\n",
       "      <th>5</th>\n",
       "      <td>asigmoid</td>\n",
       "      <td>0.8454+-0.0109(43)</td>\n",
       "      <td>0.7319+-0.0312</td>\n",
       "    </tr>\n",
       "    <tr>\n",
       "      <th>6</th>\n",
       "      <td>m1</td>\n",
       "      <td>0.8419+-0.0068(22)</td>\n",
       "      <td>0.7155+-0.0148</td>\n",
       "    </tr>\n",
       "    <tr>\n",
       "      <th>7</th>\n",
       "      <td>m2</td>\n",
       "      <td>0.8575+-0.0199(54)</td>\n",
       "      <td>0.7229+-0.0578</td>\n",
       "    </tr>\n",
       "    <tr>\n",
       "      <th>8</th>\n",
       "      <td>onem1</td>\n",
       "      <td>0.8584+-0.0121(66)</td>\n",
       "      <td>0.6867+-0.0454</td>\n",
       "    </tr>\n",
       "    <tr>\n",
       "      <th>9</th>\n",
       "      <td>onethreem1</td>\n",
       "      <td>0.8464+-0.0083(56)</td>\n",
       "      <td>0.6859+-0.0184</td>\n",
       "    </tr>\n",
       "    <tr>\n",
       "      <th>10</th>\n",
       "      <td>onem2</td>\n",
       "      <td>0.8622+-0.0112(49)</td>\n",
       "      <td>0.682+-0.0609</td>\n",
       "    </tr>\n",
       "    <tr>\n",
       "      <th>11</th>\n",
       "      <td>onethreem2</td>\n",
       "      <td>0.8493+-0.0117(31)</td>\n",
       "      <td>0.7098+-0.0347</td>\n",
       "    </tr>\n",
       "  </tbody>\n",
       "</table>\n",
       "</div>"
      ],
      "text/plain": [
       "   Activation Type       Max Precision Last Epoch Precision\n",
       "0             relu  0.8531+-0.0086(38)        0.719+-0.0415\n",
       "1             tanh  0.8369+-0.0195(19)        0.668+-0.0256\n",
       "2          sigmoid   0.8302+-0.013(56)       0.6579+-0.0432\n",
       "3            arelu  0.8664+-0.0195(50)       0.7399+-0.0466\n",
       "4            atanh  0.8256+-0.0072(32)       0.7428+-0.0328\n",
       "5         asigmoid  0.8454+-0.0109(43)       0.7319+-0.0312\n",
       "6               m1  0.8419+-0.0068(22)       0.7155+-0.0148\n",
       "7               m2  0.8575+-0.0199(54)       0.7229+-0.0578\n",
       "8            onem1  0.8584+-0.0121(66)       0.6867+-0.0454\n",
       "9       onethreem1  0.8464+-0.0083(56)       0.6859+-0.0184\n",
       "10           onem2  0.8622+-0.0112(49)        0.682+-0.0609\n",
       "11      onethreem2  0.8493+-0.0117(31)       0.7098+-0.0347"
      ]
     },
     "execution_count": 26,
     "metadata": {},
     "output_type": "execute_result"
    }
   ],
   "source": [
    "AlexNet"
   ]
  },
  {
   "cell_type": "code",
   "execution_count": null,
   "id": "c03e09a4",
   "metadata": {},
   "outputs": [],
   "source": []
  }
 ],
 "metadata": {
  "kernelspec": {
   "display_name": "Python 3 (ipykernel)",
   "language": "python",
   "name": "python3"
  },
  "language_info": {
   "codemirror_mode": {
    "name": "ipython",
    "version": 3
   },
   "file_extension": ".py",
   "mimetype": "text/x-python",
   "name": "python",
   "nbconvert_exporter": "python",
   "pygments_lexer": "ipython3",
   "version": "3.9.12"
  }
 },
 "nbformat": 4,
 "nbformat_minor": 5
}
